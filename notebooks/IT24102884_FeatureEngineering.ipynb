{
 "cells": [
  {
   "cell_type": "code",
   "execution_count": 1,
   "id": "274040cc-cdc1-4a3c-a71f-7d53fc0da43b",
   "metadata": {},
   "outputs": [],
   "source": [
    "import pandas as pd"
   ]
  },
  {
   "cell_type": "code",
   "execution_count": 5,
   "id": "ec1a9235-aeb0-4dfc-a8f7-be96a995cd47",
   "metadata": {},
   "outputs": [],
   "source": [
    "df = pd.read_csv(\"C:\\\\Users\\\\MAHEN\\\\OneDrive\\\\Desktop\\\\Ai project\\\\standardized (2).csv\")"
   ]
  },
  {
   "cell_type": "code",
   "execution_count": 6,
   "id": "86bf246e-085e-4f7f-9e74-e85b451065d5",
   "metadata": {},
   "outputs": [],
   "source": [
    "df[\"soil_fertility\"] = (df[\"N\"] + df[\"P\"] + df[\"K\"]) / 3"
   ]
  },
  {
   "cell_type": "code",
   "execution_count": 7,
   "id": "09533c5d-6e97-49a3-a8cc-df0eb81cd474",
   "metadata": {},
   "outputs": [],
   "source": [
    "df[\"moisture_index\"] = (df[\"humidity\"] * df[\"rainfall\"]) / 100"
   ]
  },
  {
   "cell_type": "code",
   "execution_count": 8,
   "id": "39048d83-2481-49a0-8cfd-708bb806bcb2",
   "metadata": {},
   "outputs": [],
   "source": [
    "def ph_category(ph):\n",
    "    if ph < 6.5:\n",
    "        return \"acidic\"\n",
    "    elif ph <= 7.5:\n",
    "        return \"neutral\"\n",
    "    else:\n",
    "        return \"alkaline\"\n",
    "\n",
    "df[\"ph_category\"] = df[\"ph\"].apply(ph_category)"
   ]
  },
  {
   "cell_type": "code",
   "execution_count": 9,
   "id": "dd32a61c-f9f8-467e-b66d-a351c6ea9fd3",
   "metadata": {},
   "outputs": [],
   "source": [
    "df[\"temp_category\"] = pd.qcut(df[\"temperature\"], q=3, labels=[\"low\", \"medium\", \"high\"])"
   ]
  },
  {
   "cell_type": "code",
   "execution_count": 10,
   "id": "6988d015-a81e-4792-b72c-c69d71effb71",
   "metadata": {},
   "outputs": [
    {
     "name": "stdout",
     "output_type": "stream",
     "text": [
      "          N         P         K  temperature  humidity        ph  rainfall  \\\n",
      "0  1.209308 -0.374074 -0.120855    -0.913345  0.447125  0.083784  1.998992   \n",
      "1  1.070389  0.095891 -0.158656    -0.742939  0.374050  0.774314  2.446469   \n",
      "2  0.375789  0.007773 -0.101954    -0.506859  0.460933  1.809392  3.150297   \n",
      "3  0.764765 -0.579684 -0.177557     0.160180  0.367047  0.699861  2.752242   \n",
      "4  0.875901 -0.374074 -0.139755    -1.056747  0.429851  1.536161  3.126774   \n",
      "5  0.625845 -0.520938 -0.139755    -0.496607  0.506493  0.819940  2.906764   \n",
      "6  0.625845  0.007773 -0.215358    -0.563415  0.474768 -0.951383  3.289155   \n",
      "7  1.320444 -0.050973 -0.177557    -1.028515  0.485825 -0.928385  2.735455   \n",
      "8  1.181524 -0.021600 -0.215358    -0.217704  0.513661  0.319111  2.517980   \n",
      "9  0.598061  0.095891 -0.215358    -0.464863  0.491866 -0.131374  2.343724   \n",
      "\n",
      "  label  label_encoded  soil_fertility  moisture_index ph_category  \\\n",
      "0  rice      -1.647192        0.238126        0.008938      acidic   \n",
      "1  rice      -1.647192        0.335875        0.009151      acidic   \n",
      "2  rice      -1.647192        0.093869        0.014521      acidic   \n",
      "3  rice      -1.647192        0.002508        0.010102      acidic   \n",
      "4  rice      -1.647192        0.120690        0.013440      acidic   \n",
      "5  rice      -1.647192       -0.011616        0.014723      acidic   \n",
      "6  rice      -1.647192        0.139420        0.015616      acidic   \n",
      "7  rice      -1.647192        0.363972        0.013290      acidic   \n",
      "8  rice      -1.647192        0.314855        0.012934      acidic   \n",
      "9  rice      -1.647192        0.159531        0.011528      acidic   \n",
      "\n",
      "  temp_category  \n",
      "0           low  \n",
      "1           low  \n",
      "2           low  \n",
      "3        medium  \n",
      "4           low  \n",
      "5           low  \n",
      "6           low  \n",
      "7           low  \n",
      "8        medium  \n",
      "9           low  \n"
     ]
    }
   ],
   "source": [
    "print(df.head(10))"
   ]
  },
  {
   "cell_type": "code",
   "execution_count": 12,
   "id": "c78674ac-6e1b-473c-b360-0aa9a2927472",
   "metadata": {},
   "outputs": [
    {
     "name": "stdout",
     "output_type": "stream",
     "text": [
      "dataset saved asCrop_recommendation_with_features.csv\n"
     ]
    }
   ],
   "source": [
    "df.to_csv(\"Crop_recommendation_with_features.csv\", index=False)\n",
    "print(\"dataset saved asCrop_recommendation_with_features.csv\") "
   ]
  },
  {
   "cell_type": "code",
   "execution_count": null,
   "id": "2e2afa79-9c1b-4f85-94cb-1ce54209ed3f",
   "metadata": {},
   "outputs": [],
   "source": []
  }
 ],
 "metadata": {
  "kernelspec": {
   "display_name": "Python 3 (ipykernel)",
   "language": "python",
   "name": "python3"
  },
  "language_info": {
   "codemirror_mode": {
    "name": "ipython",
    "version": 3
   },
   "file_extension": ".py",
   "mimetype": "text/x-python",
   "name": "python",
   "nbconvert_exporter": "python",
   "pygments_lexer": "ipython3",
   "version": "3.13.5"
  }
 },
 "nbformat": 4,
 "nbformat_minor": 5
}
